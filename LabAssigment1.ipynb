{
 "cells": [
  {
   "cell_type": "markdown",
   "metadata": {},
   "source": [
    "# Lab Assignment 1: How to Get Yourself Unstuck\n",
    "## DS 6001: Practice and Application of Data Science\n",
    "\n",
    "### Instructions\n",
    "Please answer the following questions as completely as possible using text, code, and the results of code as needed. Format your answers in a Jupyter notebook. To receive full credit, make sure you address every part of the problem, and make sure your document is formatted in a clean and professional way.\n",
    "\n",
    "### Problem 0\n",
    "Import the following libraries:"
   ]
  },
  {
   "cell_type": "code",
   "execution_count": 2,
   "metadata": {},
   "outputs": [],
   "source": [
    "import numpy as np\n",
    "import pandas as pd\n",
    "import os\n",
    "import math"
   ]
  },
  {
   "cell_type": "markdown",
   "metadata": {},
   "source": [
    "### Problem 1 \n",
    "Python is open-source, and that’s beautiful: it means that Python is maintained by a world-wide community of volunteers, that Python develops at the same rate as advancements in science, and that Python is completely free of charge. But one downside of being open-source is that different people design many alternative ways to perform the same task in Python.\n",
    "\n",
    "Read the following Stack Overflow post: https://stackoverflow.com/questions/11346283/renaming-columns-in-pandas/46912050. The question is simply how to rename the columns of a dataframe using Pandas. Count how many unique different solutions were proposed, and write this number in your lab report. (Hint: the number of solutions is not the number of answers to the posted question.)\n",
    "\n",
    "Remember: your goal as a data scientist needs to be to process/clean/wrangle/manage data as quickly as possible while still doing it correctly. A big part of that job is knowing how to seek help to find the right answer quickly. Given the number of proposed solutions on this Stack Overflow page, what’s the problem with developing a habit of using Google and Stack Overflow as your first source for seeking help? (2 points)\n",
    "\n",
    "Answer: <font color='red'> We found 5 different solutions from the stackoverflow page. The problem with using stack overflow as your first source is that it may not always work for your situation or there may be a simplier way to do it. </font>\n",
    "\n",
    "### Problem 2\n",
    "There are several functions implemented in Python to calculate a logarithm. Both the `numpy` and `math` libraries have a `log()` function. Your task in this problem is to calculate log$_3(7)$ directly (without using the change-of-base formula). Note that this particular log has a base of 3, which is unusual. For this problem:\n",
    "\n",
    "* Write code to display the docstrings for each function.\n",
    "\n",
    "* Read the docstrings and explain, in words in your lab report, whether it is possible to use each function to calculate log$_3(7)$ or not. Why did you come to this conclusion?\n",
    "\n",
    "Answer: <font color='red'> It is possible to use the math.log() function to solve the problem of log$_3(7)$, but not with the function np.log() because this function has only certain bases that include log2 and log10. While math.log() allows us to put a base in. However, there is a longer way to use np.log() to be able to figure out the problem. Math.log() is a much quicker and simplier way.</font>\n",
    "\n",
    "If possible, use one or both functions to calculate log$_3(7)$ and display the output. (2 points)"
   ]
  },
  {
   "cell_type": "code",
   "execution_count": 6,
   "metadata": {},
   "outputs": [
    {
     "data": {
      "text/plain": [
       "1.7712437491614221"
      ]
     },
     "execution_count": 6,
     "metadata": {},
     "output_type": "execute_result"
    }
   ],
   "source": [
    "math.log(7,3)"
   ]
  },
  {
   "cell_type": "code",
   "execution_count": 4,
   "metadata": {},
   "outputs": [
    {
     "name": "stdout",
     "output_type": "stream",
     "text": [
      "log(x, [base=math.e])\n",
      "Return the logarithm of x to the given base.\n",
      "\n",
      "If the base not specified, returns the natural logarithm (base e) of x.\n"
     ]
    }
   ],
   "source": [
    "print(math.log.__doc__)"
   ]
  },
  {
   "cell_type": "code",
   "execution_count": 5,
   "metadata": {},
   "outputs": [
    {
     "name": "stdout",
     "output_type": "stream",
     "text": [
      "log(x, /, out=None, *, where=True, casting='same_kind', order='K', dtype=None, subok=True[, signature, extobj])\n",
      "\n",
      "Natural logarithm, element-wise.\n",
      "\n",
      "The natural logarithm `log` is the inverse of the exponential function,\n",
      "so that `log(exp(x)) = x`. The natural logarithm is logarithm in base\n",
      "`e`.\n",
      "\n",
      "Parameters\n",
      "----------\n",
      "x : array_like\n",
      "    Input value.\n",
      "out : ndarray, None, or tuple of ndarray and None, optional\n",
      "    A location into which the result is stored. If provided, it must have\n",
      "    a shape that the inputs broadcast to. If not provided or None,\n",
      "    a freshly-allocated array is returned. A tuple (possible only as a\n",
      "    keyword argument) must have length equal to the number of outputs.\n",
      "where : array_like, optional\n",
      "    This condition is broadcast over the input. At locations where the\n",
      "    condition is True, the `out` array will be set to the ufunc result.\n",
      "    Elsewhere, the `out` array will retain its original value.\n",
      "    Note that if an uninitialized `out` array is created via the default\n",
      "    ``out=None``, locations within it where the condition is False will\n",
      "    remain uninitialized.\n",
      "**kwargs\n",
      "    For other keyword-only arguments, see the\n",
      "    :ref:`ufunc docs <ufuncs.kwargs>`.\n",
      "\n",
      "Returns\n",
      "-------\n",
      "y : ndarray\n",
      "    The natural logarithm of `x`, element-wise.\n",
      "    This is a scalar if `x` is a scalar.\n",
      "\n",
      "See Also\n",
      "--------\n",
      "log10, log2, log1p, emath.log\n",
      "\n",
      "Notes\n",
      "-----\n",
      "Logarithm is a multivalued function: for each `x` there is an infinite\n",
      "number of `z` such that `exp(z) = x`. The convention is to return the\n",
      "`z` whose imaginary part lies in `[-pi, pi]`.\n",
      "\n",
      "For real-valued input data types, `log` always returns real output. For\n",
      "each value that cannot be expressed as a real number or infinity, it\n",
      "yields ``nan`` and sets the `invalid` floating point error flag.\n",
      "\n",
      "For complex-valued input, `log` is a complex analytical function that\n",
      "has a branch cut `[-inf, 0]` and is continuous from above on it. `log`\n",
      "handles the floating-point negative zero as an infinitesimal negative\n",
      "number, conforming to the C99 standard.\n",
      "\n",
      "References\n",
      "----------\n",
      ".. [1] M. Abramowitz and I.A. Stegun, \"Handbook of Mathematical Functions\",\n",
      "       10th printing, 1964, pp. 67. http://www.math.sfu.ca/~cbm/aands/\n",
      ".. [2] Wikipedia, \"Logarithm\". https://en.wikipedia.org/wiki/Logarithm\n",
      "\n",
      "Examples\n",
      "--------\n",
      ">>> np.log([1, np.e, np.e**2, 0])\n",
      "array([  0.,   1.,   2., -Inf])\n"
     ]
    }
   ],
   "source": [
    "print(np.log.__doc__)"
   ]
  },
  {
   "cell_type": "markdown",
   "metadata": {},
   "source": [
    "### Problem 3\n",
    "Open a console window and place it next to your notebook in Jupyter labs. Load the kernel from the notebook into the console, then call up the docstring for the `pd.DataFrame` function. Take a screenshot and include it in your lab report. (To include a locally saved image named `screenshot.jpg`, for example, create a Markdown cell and paste \n",
    "```\n",
    "<img src=\"screenshot.jpg\" width=600>\n",
    "```\n",
    "(2 points)"
   ]
  },
  {
   "cell_type": "code",
   "execution_count": 3,
   "metadata": {},
   "outputs": [
    {
     "name": "stdout",
     "output_type": "stream",
     "text": [
      "\n",
      "    Two-dimensional, size-mutable, potentially heterogeneous tabular data.\n",
      "\n",
      "    Data structure also contains labeled axes (rows and columns).\n",
      "    Arithmetic operations align on both row and column labels. Can be\n",
      "    thought of as a dict-like container for Series objects. The primary\n",
      "    pandas data structure.\n",
      "\n",
      "    Parameters\n",
      "    ----------\n",
      "    data : ndarray (structured or homogeneous), Iterable, dict, or DataFrame\n",
      "        Dict can contain Series, arrays, constants, dataclass or list-like objects. If\n",
      "        data is a dict, column order follows insertion-order. If a dict contains Series\n",
      "        which have an index defined, it is aligned by its index.\n",
      "\n",
      "        .. versionchanged:: 0.25.0\n",
      "           If data is a list of dicts, column order follows insertion-order.\n",
      "\n",
      "    index : Index or array-like\n",
      "        Index to use for resulting frame. Will default to RangeIndex if\n",
      "        no indexing information part of input data and no index provided.\n",
      "    columns : Index or array-like\n",
      "        Column labels to use for resulting frame when data does not have them,\n",
      "        defaulting to RangeIndex(0, 1, 2, ..., n). If data contains column labels,\n",
      "        will perform column selection instead.\n",
      "    dtype : dtype, default None\n",
      "        Data type to force. Only a single dtype is allowed. If None, infer.\n",
      "    copy : bool or None, default None\n",
      "        Copy data from inputs.\n",
      "        For dict data, the default of None behaves like ``copy=True``.  For DataFrame\n",
      "        or 2d ndarray input, the default of None behaves like ``copy=False``.\n",
      "\n",
      "        .. versionchanged:: 1.3.0\n",
      "\n",
      "    See Also\n",
      "    --------\n",
      "    DataFrame.from_records : Constructor from tuples, also record arrays.\n",
      "    DataFrame.from_dict : From dicts of Series, arrays, or dicts.\n",
      "    read_csv : Read a comma-separated values (csv) file into DataFrame.\n",
      "    read_table : Read general delimited file into DataFrame.\n",
      "    read_clipboard : Read text from clipboard into DataFrame.\n",
      "\n",
      "    Examples\n",
      "    --------\n",
      "    Constructing DataFrame from a dictionary.\n",
      "\n",
      "    >>> d = {'col1': [1, 2], 'col2': [3, 4]}\n",
      "    >>> df = pd.DataFrame(data=d)\n",
      "    >>> df\n",
      "       col1  col2\n",
      "    0     1     3\n",
      "    1     2     4\n",
      "\n",
      "    Notice that the inferred dtype is int64.\n",
      "\n",
      "    >>> df.dtypes\n",
      "    col1    int64\n",
      "    col2    int64\n",
      "    dtype: object\n",
      "\n",
      "    To enforce a single dtype:\n",
      "\n",
      "    >>> df = pd.DataFrame(data=d, dtype=np.int8)\n",
      "    >>> df.dtypes\n",
      "    col1    int8\n",
      "    col2    int8\n",
      "    dtype: object\n",
      "\n",
      "    Constructing DataFrame from a dictionary including Series:\n",
      "\n",
      "    >>> d = {'col1': [0, 1, 2, 3], 'col2': pd.Series([2, 3], index=[2, 3])}\n",
      "    >>> pd.DataFrame(data=d, index=[0, 1, 2, 3])\n",
      "       col1  col2\n",
      "    0     0   NaN\n",
      "    1     1   NaN\n",
      "    2     2   2.0\n",
      "    3     3   3.0\n",
      "\n",
      "    Constructing DataFrame from numpy ndarray:\n",
      "\n",
      "    >>> df2 = pd.DataFrame(np.array([[1, 2, 3], [4, 5, 6], [7, 8, 9]]),\n",
      "    ...                    columns=['a', 'b', 'c'])\n",
      "    >>> df2\n",
      "       a  b  c\n",
      "    0  1  2  3\n",
      "    1  4  5  6\n",
      "    2  7  8  9\n",
      "\n",
      "    Constructing DataFrame from a numpy ndarray that has labeled columns:\n",
      "\n",
      "    >>> data = np.array([(1, 2, 3), (4, 5, 6), (7, 8, 9)],\n",
      "    ...                 dtype=[(\"a\", \"i4\"), (\"b\", \"i4\"), (\"c\", \"i4\")])\n",
      "    >>> df3 = pd.DataFrame(data, columns=['c', 'a'])\n",
      "    ...\n",
      "    >>> df3\n",
      "       c  a\n",
      "    0  3  1\n",
      "    1  6  4\n",
      "    2  9  7\n",
      "\n",
      "    Constructing DataFrame from dataclass:\n",
      "\n",
      "    >>> from dataclasses import make_dataclass\n",
      "    >>> Point = make_dataclass(\"Point\", [(\"x\", int), (\"y\", int)])\n",
      "    >>> pd.DataFrame([Point(0, 0), Point(0, 3), Point(2, 3)])\n",
      "       x  y\n",
      "    0  0  0\n",
      "    1  0  3\n",
      "    2  2  3\n",
      "    \n"
     ]
    }
   ],
   "source": [
    "print(pd.DataFrame.__doc__)"
   ]
  },
  {
   "cell_type": "markdown",
   "metadata": {},
   "source": [
    "<img src=\"screenshot.jpg\" width=600>"
   ]
  },
  {
   "cell_type": "markdown",
   "metadata": {},
   "source": [
    "### Problem 4\n",
    "Search through the questions on Stack Overflow tagged as Python questions: https://stackoverflow.com/questions/tagged/python. Find a question in which an answerer exhibits passive toxic behavior as defined in this module's notebook. Provide a link, and describe what specific behavior leads you to identify this answer as toxic. (2 points)\n",
    "\n",
    "Answer: <font color='red'> https://stackoverflow.com/questions/38987/how-do-i-merge-two-dictionaries-in-a-single-expression-take-union-of-dictionari The comment writes \"Among such shady and dubious answers, this shining example is the one and only good way to merge dicts in Python, endorsed by dictator for life Guido van Rossum himself! Someone else suggested half of this, but did not put it in a function.\" It exhibits toxic behavior by saying that his answer is the only right one and calling all others shady. Also, not very straightforward in answering and very condenscending. </font>"
   ]
  },
  {
   "cell_type": "markdown",
   "metadata": {},
   "source": [
    "### Problem 5\n",
    "Search through the questions on Stack Overflow tagged as Python questions: https://stackoverflow.com/questions/tagged/python. Find a question in which a questioner self-sabotages by asking the question in a way that the community does not appreciate. Provide a link, and describe what the questioner did specifically to annoy the community of answerers. (2 points)\n",
    "\n",
    "Answer: https://stackoverflow.com/questions/40882108/python-filenotfounderror-errno-2-no-such-file-or-directory-y\n",
    "<font color='red'> The questioner self-sabotaged by asking a question about an error that the community feels is very clear. It also has a typo within it and has been asked before. </font>"
   ]
  },
  {
   "cell_type": "markdown",
   "metadata": {},
   "source": [
    "### Problem 6\n",
    "These days there are so many Marvel superheros, but only six superheros count as original Avengers: Hulk, Captain America, Iron Man, Black Widow, Hawkeye, and Thor. I wrote a function, `is_avenger()`, that takes a string as an input. The function looks to see if this string is the name of one of the original six Avengers. If so, it prints that the string is an original Avenger, and if not, it prints that the string is not an original Avenger. Here’s the code for the function:"
   ]
  },
  {
   "cell_type": "code",
   "execution_count": 1,
   "metadata": {},
   "outputs": [],
   "source": [
    "def is_avenger(name):\n",
    "    if name==\"Hulk\" or \"Captain America\" or \"Iron Man\" or \"Black Widow\" or \"Hawkeye\" or \"Thor\":\n",
    "        print(name  + \"'s an original Avenger!\")\n",
    "    else:\n",
    "        print(name + \" is NOT an original Avenger.\")"
   ]
  },
  {
   "cell_type": "markdown",
   "metadata": {},
   "source": [
    "To test whether this function is working, I pass the names of some original Avengers to the function:"
   ]
  },
  {
   "cell_type": "code",
   "execution_count": 10,
   "metadata": {},
   "outputs": [
    {
     "ename": "NameError",
     "evalue": "name 'is_avenger' is not defined",
     "output_type": "error",
     "traceback": [
      "\u001b[1;31m---------------------------------------------------------------------------\u001b[0m",
      "\u001b[1;31mNameError\u001b[0m                                 Traceback (most recent call last)",
      "Input \u001b[1;32mIn [10]\u001b[0m, in \u001b[0;36m<cell line: 1>\u001b[1;34m()\u001b[0m\n\u001b[1;32m----> 1\u001b[0m \u001b[43mis_avenger\u001b[49m(\u001b[38;5;124m\"\u001b[39m\u001b[38;5;124mBlack Widow\u001b[39m\u001b[38;5;124m\"\u001b[39m)\n",
      "\u001b[1;31mNameError\u001b[0m: name 'is_avenger' is not defined"
     ]
    }
   ],
   "source": [
    "is_avenger(\"Black Widow\")"
   ]
  },
  {
   "cell_type": "code",
   "execution_count": 3,
   "metadata": {},
   "outputs": [
    {
     "name": "stdout",
     "output_type": "stream",
     "text": [
      "Iron Man's an original Avenger!\n"
     ]
    }
   ],
   "source": [
    "is_avenger(\"Iron Man\")"
   ]
  },
  {
   "cell_type": "code",
   "execution_count": 4,
   "metadata": {},
   "outputs": [
    {
     "name": "stdout",
     "output_type": "stream",
     "text": [
      "Hulk's an original Avenger!\n"
     ]
    }
   ],
   "source": [
    "is_avenger(\"Hulk\")"
   ]
  },
  {
   "cell_type": "markdown",
   "metadata": {},
   "source": [
    "Looks good! But next, I pass some other strings to the function"
   ]
  },
  {
   "cell_type": "code",
   "execution_count": 5,
   "metadata": {},
   "outputs": [
    {
     "name": "stdout",
     "output_type": "stream",
     "text": [
      "Spiderman's an original Avenger!\n"
     ]
    }
   ],
   "source": [
    "is_avenger(\"Spiderman\")"
   ]
  },
  {
   "cell_type": "code",
   "execution_count": 6,
   "metadata": {},
   "outputs": [
    {
     "name": "stdout",
     "output_type": "stream",
     "text": [
      "Beyonce's an original Avenger!\n"
     ]
    }
   ],
   "source": [
    "is_avenger(\"Beyonce\")"
   ]
  },
  {
   "cell_type": "markdown",
   "metadata": {},
   "source": [
    "Beyonce is a hero, but she was too busy going on tour to be in the Avengers movie. Also, Spiderman definitely was NOT an original Avenger. It turns out that this function will display that any string we write here is an original Avenger, which is incorrect. To fix this function, let’s turn to Stack Overflow.\n",
    "\n",
    "#### Part a\n",
    "The first step to solving a problem using Stack Overflow is to do a comprehensive search of available resources to try to solve the problem. There is a post on Stack Overflow that very specifically solves our problem. Do a Google search and find this post. In your lab report, write the link to this Stack Overflow page, and the search terms you entered into Google to find this page.\n",
    "\n",
    "Then apply the solution on this Stack Overflow page to fix the `is_avenger()` function, and test the function to confirm that it works as we expect. (2 points)\n",
    "\n",
    "Answer: https://stackoverflow.com/questions/6838238/comparing-a-string-to-multiple-items-in-python <font color='red'> the search terms we put are \"comparing two strings python\" </font> \n",
    "\n",
    "**See new solution below**\n",
    "\n",
    "#### Part b\n",
    "Suppose that no Stack Overflow posts yet existed to help us solve this problem. It would be time to consider writing a post ourselves. In your lab report, write a good title for this post. Do NOT copy the title to the posts you found for part a. (Hint: for details on how to write a good title see the slides or https://stackoverflow.com/help/how-to-ask) (3 points)\n",
    "\n",
    "Answer: <font color='red'> Title we would write is 'Why does string == \"value\" or \"value2\" ... evaluate to true when str is set to \"letter?'\n",
    "\n",
    "#### Part c\n",
    "One characteristic of a Stack Overflow post that is likely to get good responses is a minimal working example. A minimal working example is code with the following properties:\n",
    "\n",
    "1. It can be executed on anyone’s local machine without needing a data file or a hard-to-get package or module\n",
    "\n",
    "2. It always produces the problematic output\n",
    "\n",
    "3. It using as few lines of code as possible, and is written in the simplest way to write that code\n",
    "\n",
    "Write a minimal working example for this problem. (3 points)\n",
    "    \n",
    "    Answer: \n",
    "    \n",
    "    def is_avenger(name):\n",
    "    if name==\"Hulk\" or \"Captain America\" or \"Iron Man\" or \"Black Widow\" or \"Hawkeye\" or \"Thor\":\n",
    "        print(\"True\")\n",
    "    else:\n",
    "        print(\"False\")\n",
    "    \n",
    "Problematic output: \n",
    "is_avenger(\"Beyonce\")\n",
    "True"
   ]
  },
  {
   "cell_type": "code",
   "execution_count": 11,
   "metadata": {},
   "outputs": [],
   "source": [
    "def is_avenger(name):\n",
    "    original_avengers = [\"Captain America\", \"Iron Man\", \"Black Widow\", \"Hawkeye\", \"Thor\"]\n",
    "    if name in original_avengers:\n",
    "        print(name  + \"'s an original Avenger!\")\n",
    "    else:\n",
    "        print(name + \" is NOT an original Avenger.\")"
   ]
  },
  {
   "cell_type": "code",
   "execution_count": 12,
   "metadata": {},
   "outputs": [
    {
     "name": "stdout",
     "output_type": "stream",
     "text": [
      "Iron Man's an original Avenger!\n"
     ]
    }
   ],
   "source": [
    "is_avenger(\"Iron Man\")"
   ]
  },
  {
   "cell_type": "code",
   "execution_count": 13,
   "metadata": {},
   "outputs": [
    {
     "name": "stdout",
     "output_type": "stream",
     "text": [
      "Spiderman is NOT an original Avenger.\n"
     ]
    }
   ],
   "source": [
    "is_avenger(\"Spiderman\")"
   ]
  },
  {
   "cell_type": "markdown",
   "metadata": {},
   "source": [
    "### Problem 7\n",
    "Sign on to the PySlackers slack page and send me a private message in which you tell me which three channels on that Slack workspace look most interesting to you. (2 points)"
   ]
  },
  {
   "cell_type": "code",
   "execution_count": null,
   "metadata": {},
   "outputs": [],
   "source": []
  }
 ],
 "metadata": {
  "kernelspec": {
   "display_name": "Python 3 (ipykernel)",
   "language": "python",
   "name": "python3"
  },
  "language_info": {
   "codemirror_mode": {
    "name": "ipython",
    "version": 3
   },
   "file_extension": ".py",
   "mimetype": "text/x-python",
   "name": "python",
   "nbconvert_exporter": "python",
   "pygments_lexer": "ipython3",
   "version": "3.9.12"
  }
 },
 "nbformat": 4,
 "nbformat_minor": 4
}
