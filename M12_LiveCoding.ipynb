{
 "cells": [
  {
   "cell_type": "markdown",
   "id": "c3d31551-ad3e-4cc1-beb3-fa199da17051",
   "metadata": {},
   "source": [
    "# Constructing Viginia COVID Statistic DataFrames \n",
    "#### The goal is to connect to the official Virginia Health Department API for current COVID statistics, and to create two dataframes:\n",
    "1. A dataframe with the total COVID cases, hospitalizations, and deaths by county/city, both overall and per 1000 people\n",
    "2. A dataframe with the trend of these statistics, defined as the total number in the last two weeks relative to the total number during the two weeks prior to that\n",
    "\n",
    "First we load the following packages:"
   ]
  },
  {
   "cell_type": "code",
   "execution_count": 1,
   "id": "b5354ae7-fcc0-4be9-81f4-2b0990291a35",
   "metadata": {},
   "outputs": [],
   "source": [
    "import numpy as np\n",
    "import pandas as pd\n",
    "import requests\n",
    "import json\n",
    "from datetime import timedelta\n",
    "\n",
    "#The following packages are for making visualizations and dashbords\n",
    "import plotly.express as px\n",
    "import dash\n",
    "from dash import dcc\n",
    "from dash import html\n",
    "from dash import dash_table\n",
    "from dash.dependencies import Input, Output\n",
    "import leaflet\n",
    "import plotly.offline as pyo "
   ]
  },
  {
   "cell_type": "markdown",
   "id": "4db59ce2-5b44-4090-a500-468e7d987b93",
   "metadata": {},
   "source": [
    "### Accessing the VDH COVID API\n",
    "We will be using the Virginia Department of Health's API endpoint for the official reported numbers on the number of COVID hospitalizations and deaths for each county and independent city in Virginia. Here is the endpoint, which provides the data in JSON format: https://data.virginia.gov/resource/bre9-aqqr.json\n",
    "\n",
    "The data are organized such that one record is one locality on one day. The fields within each record are\n",
    "\n",
    "* `report_date`: Date in YYYY-MM-DDTHH:MM:SS.SSS format\n",
    "\n",
    "* `fips`: A unique numeric ID for the locality represented in the record. 51 refers to Virginia, and the last 3 digits vary depending on the location\n",
    "\n",
    "* `locality`: The name of the county or independent city for the record\n",
    "\n",
    "* `vdh_health_district`: The name of the regional health district (the entity chiefly responsible for keeping statistics and administering COVID vaccines) that the locality is located in\n",
    "\n",
    "* `total_cases`: the total official number of COVID cases on the record's date since the beginning of data collection on COVID cases (although be careful, \"official\" does not mean true -- these numbers are almost certainly significant undercounts because many cases went unreported)\n",
    "\n",
    "* `hospitalizations`: the total number of hospitalizations due to COVID on the record's date since the beginning of data collection\n",
    "\n",
    "* `deaths`: the total number of deaths due to COVID on the record's date since the beginning of data collection\n",
    "\n",
    "The API that provides the data only provides 1000 records, by default. However we can change this by specifying the $limit parameter (see the documentation here: https://dev.socrata.com/docs/paging.html). Anything more than 200,000 should be more than sufficient for our purposes."
   ]
  },
  {
   "cell_type": "code",
   "execution_count": null,
   "id": "1e80b4a1-5281-4076-b317-a70cc45b7d09",
   "metadata": {},
   "outputs": [],
   "source": [
    "endpoint = 'https://data.virginia.gov/resource/bre9-aqqr.json'\n",
    "mypars = {'$limit': 200000}\n",
    "headers = {'User-agent': 'Mozilla/5.0 (Macintosh; Intel Mac OS X 10.15; rv:99.0) Gecko/20100101 Firefox/99.0'}\n",
    "r = requests.get(endpoint, params=mypars, headers=headers)\n",
    "r"
   ]
  },
  {
   "cell_type": "markdown",
   "id": "316f4d82-52e1-407e-a3ff-7da437a1942f",
   "metadata": {},
   "source": [
    "### A dataframe with the total COVID cases, hospitalizations, and deaths by county/city, both overall and per 1000 people\n",
    "We parse the JSON output of the API call, and we change the data types of the columns:"
   ]
  },
  {
   "cell_type": "code",
   "execution_count": null,
   "id": "18ecce94-e9f1-44aa-b7f7-6d1d1f0846e4",
   "metadata": {},
   "outputs": [],
   "source": [
    "cases = pd.json_normalize(json.loads(r.text))\n",
    "cases['report_date'] = pd.to_datetime(cases['report_date'])\n",
    "cases['total_cases'] = cases['total_cases'].astype('int')\n",
    "cases['hospitalizations'] = cases['hospitalizations'].astype('int')\n",
    "cases['deaths'] = cases['deaths'].astype('int')\n",
    "cases"
   ]
  },
  {
   "cell_type": "markdown",
   "id": "d2fad5bd-9302-4c5d-8fa0-852bb8d3d83a",
   "metadata": {},
   "source": [
    "Note that the values represent the total counts since the beginning of data collection in March 2020 until the day in question, and not the total number reported on that day. Next we filter the data to just the most current totals:"
   ]
  },
  {
   "cell_type": "code",
   "execution_count": null,
   "id": "54352eb6-e2d8-473d-989d-8d67d50a9a8c",
   "metadata": {},
   "outputs": [],
   "source": [
    "cases_today = cases.loc[cases['report_date'] == max(cases['report_date'])]"
   ]
  },
  {
   "cell_type": "markdown",
   "id": "cc37e7a2-7410-4690-acfd-632f13e22918",
   "metadata": {},
   "source": [
    "To calculate the per-capita counts, we merge the data with the population statistics from the U.S. Census that we used in Module 9:"
   ]
  },
  {
   "cell_type": "code",
   "execution_count": null,
   "id": "3c092b1f-f6d4-456b-ae60-b66d209f6f4f",
   "metadata": {},
   "outputs": [],
   "source": [
    "url = \"https://demographics.coopercenter.org/sites/demographics/files/media/files/2020-07/Census_2019_RaceEstimates_forVA_0.xls\"\n",
    "pop = pd.read_excel(url, skiprows=4)\n",
    "pop = pop.loc[~pop['FIPS'].isna()]\n",
    "pop['FIPS'] = pop['FIPS'] + 51000\n",
    "pop['FIPS'] = pop['FIPS'].astype('int').astype('str')\n",
    "pop = pop[['FIPS', 'Total Population']]\n",
    "pop"
   ]
  },
  {
   "cell_type": "markdown",
   "id": "13f035aa-7c5d-4227-979d-e3ad91bfbf64",
   "metadata": {},
   "source": [
    "We merge the population data with the COVID case data and we calculate rates per 1000 people in each city/county:"
   ]
  },
  {
   "cell_type": "code",
   "execution_count": null,
   "id": "5b52412c-a29d-48c2-9028-987120f1d8cf",
   "metadata": {},
   "outputs": [],
   "source": [
    "cases_pop = pd.merge(cases_today, pop, \n",
    "                    left_on = ['fips'],\n",
    "                    right_on = ['FIPS'],\n",
    "                    how = 'inner')\n",
    "cases_pop['Cases per 1000 people'] = round(1000*cases_pop['total_cases']/cases_pop['Total Population'],1)\n",
    "cases_pop['Hospitalizations per 1000 people'] = round(1000*cases_pop['hospitalizations']/cases_pop['Total Population'],1)\n",
    "cases_pop['Deaths per 1000 people'] = round(1000*cases_pop['deaths']/cases_pop['Total Population'],1)\n",
    "cases_pop"
   ]
  },
  {
   "cell_type": "markdown",
   "id": "732dc27b-124f-4bd7-952d-e4d6507a4667",
   "metadata": {},
   "source": [
    "### A dataframe with the trend of these statistics, defined as the total number in the last two weeks relative to the total number during the two weeks prior to that\n",
    "We start by reshaping the data to long format to place cases, hospitalizations, and deaths on separate rows:"
   ]
  },
  {
   "cell_type": "code",
   "execution_count": null,
   "id": "4f07090a-8a46-4057-9403-0146a8d9d6d2",
   "metadata": {},
   "outputs": [],
   "source": [
    "cases_trend = cases[['report_date', 'fips', 'locality', 'total_cases', 'hospitalizations', 'deaths']]\n",
    "cases_trend = pd.melt(cases_trend, id_vars = ['report_date', 'fips', 'locality'],\n",
    "                     value_vars = ['total_cases', 'hospitalizations', 'deaths'])\n",
    "cases_trend"
   ]
  },
  {
   "cell_type": "markdown",
   "id": "cfada57b-c516-4e0a-965e-dcbff82e0471",
   "metadata": {},
   "source": [
    "To calculate the totals in rolling 14 day windows, we create two additional versions of the date: the date 14 days in the future and the date 28 days in the future. We will use both new dates to merge the dataset to itself. That places the total count on a given day on the same row as the total counts 14 and 28 days ago, and that enables us to create our trend indices:"
   ]
  },
  {
   "cell_type": "code",
   "execution_count": null,
   "id": "44a7414d-2b56-4b03-9253-58c50db8211f",
   "metadata": {},
   "outputs": [],
   "source": [
    "cases_trend['date14'] = cases_trend['report_date'] + timedelta(14)\n",
    "cases_trend['date28'] = cases_trend['report_date'] + timedelta(28)\n",
    "cases_trend"
   ]
  },
  {
   "cell_type": "markdown",
   "id": "330d9774-c070-4028-b7a4-d2ffee1ea7c5",
   "metadata": {},
   "source": [
    "Next we merge on the date 14 days in the future:"
   ]
  },
  {
   "cell_type": "code",
   "execution_count": null,
   "id": "8ebf7797-edfa-465c-8826-9e0252a0005a",
   "metadata": {},
   "outputs": [],
   "source": [
    "cases_trend = pd.merge(cases_trend, cases_trend,\n",
    "                      right_on = ['report_date', 'fips', 'locality', 'variable'],\n",
    "                      left_on = ['date14', 'fips', 'locality', 'variable'])\n",
    "\n",
    "cases_trend = cases_trend.drop(['report_date_x','date14_x','date28_x'], axis=1)\n",
    "cases_trend = cases_trend.rename({'report_date_y':'report_date',\n",
    "                                 'date14_y':'date14',\n",
    "                                 'date28_y':'date28',\n",
    "                                 'value_y':'value',\n",
    "                                 'value_x':'value14'}, axis=1)\n",
    "cases_trend"
   ]
  },
  {
   "cell_type": "markdown",
   "id": "a6413dec-57a6-4f56-8cf1-ebd95863e99a",
   "metadata": {},
   "source": [
    "Then we merge on the date 28 days in the future:"
   ]
  },
  {
   "cell_type": "code",
   "execution_count": null,
   "id": "7e21e35f-04c5-4db5-98a4-b930e61fa72e",
   "metadata": {},
   "outputs": [],
   "source": [
    "cases_trend = pd.merge(cases_trend, cases_trend,\n",
    "                      right_on = ['report_date', 'fips', 'locality', 'variable'],\n",
    "                      left_on = ['date28', 'fips', 'locality', 'variable'])\n",
    "\n",
    "cases_trend = cases_trend.drop(['report_date_x','date14_y','date28_y', 'value14_x', 'date14_x', 'date28_x'], axis=1)\n",
    "cases_trend = cases_trend.rename({'report_date_y':'report_date',\n",
    "                                 'value_y':'value',\n",
    "                                 'value14_y':'value14',\n",
    "                                 'value_x':'value28'}, axis=1)\n",
    "cases_trend"
   ]
  },
  {
   "cell_type": "markdown",
   "id": "6ce28385-c4d5-4c31-a2c2-3db299254cd4",
   "metadata": {},
   "source": [
    "Then we create the trend indices. We also create a string version for presentation in a table:"
   ]
  },
  {
   "cell_type": "code",
   "execution_count": null,
   "id": "3f3571be-ba38-4ecb-bf3e-b1f8c102df47",
   "metadata": {},
   "outputs": [],
   "source": [
    "cases_trend['Most recent 14 days'] = cases_trend['value'] - cases_trend['value14']\n",
    "cases_trend['Previous 14 days'] = cases_trend['value14'] - cases_trend['value28']\n",
    "cases_trend['Trend'] = 100*(cases_trend['Most recent 14 days'] - cases_trend['Previous 14 days']) / cases_trend['Previous 14 days']\n",
    "cases_trend['Trend_string'] = round(cases_trend['Trend'], 1).astype('str') + \"%\"\n",
    "cases_trend"
   ]
  },
  {
   "cell_type": "code",
   "execution_count": null,
   "id": "1ca64fb2-09ab-4f7d-b35f-9d3f23b08b19",
   "metadata": {},
   "outputs": [],
   "source": [
    "url = 'https://raw.githubusercontent.com/plotly/datasets/master/geojson-counties-fips.json'\n",
    "r = requests.get(url)\n",
    "r"
   ]
  },
  {
   "cell_type": "code",
   "execution_count": null,
   "id": "a40d7850-51a5-47d4-8201-bdfe6b5688e0",
   "metadata": {},
   "outputs": [],
   "source": [
    "counties = json.loads(r.text)\n"
   ]
  },
  {
   "cell_type": "code",
   "execution_count": null,
   "id": "f508d890-262f-4e4c-97c4-b35bfab12302",
   "metadata": {},
   "outputs": [],
   "source": [
    "fig = px.choropleth(cases_pop,\n",
    "                    geojson=counties,\n",
    "                   locations = 'fips',\n",
    "                   color = 'Cases per 1000 people',\n",
    "                   color_continuous_scale=\"reds\",\n",
    "                    scope=\"usa\",\n",
    "                   height=600,\n",
    "                   width=800,\n",
    "                   hover_name='locality',\n",
    "                   hover_data=['Hospitalizations per 1000 people','Deaths per 1000 people'])\n",
    "fig.update_geos(fitbounds='locations')\n",
    "fig.show()"
   ]
  },
  {
   "cell_type": "code",
   "execution_count": null,
   "id": "92022722-87c8-4ce8-b624-9d75c7747f50",
   "metadata": {},
   "outputs": [],
   "source": [
    "ct = cases_trend.query('locality==\"Goochland\"&variable==\"total_cases\"')\n",
    "ct"
   ]
  },
  {
   "cell_type": "code",
   "execution_count": null,
   "id": "2bdcd7ff-ecf6-4dfd-ab8f-a020d083f103",
   "metadata": {},
   "outputs": [],
   "source": [
    "fig = px.line(ct,x='report_date',y='value',\n",
    "             title = 'Total COVID cases: Goochland County',\n",
    "             labels = {'value':'Total COVID cases','report_date':'Date'},\n",
    "             height=600,width=800)\n",
    "fig.update(layout=dict(title=dict(x=.5)))\n",
    "fig.show()"
   ]
  },
  {
   "cell_type": "code",
   "execution_count": null,
   "id": "d67e7ff5-5e06-48df-944a-09b1cf229674",
   "metadata": {},
   "outputs": [],
   "source": [
    "fig = px.line(ct,x='report_date',y='Trend',\n",
    "             title = 'Total COVID cases: Goochland County',\n",
    "             labels = {'value':'COVID Case Trend','report_date':'Date'},\n",
    "             height=600,width=800)\n",
    "fig.update(layout=dict(title=dict(x=.5)))\n",
    "fig.show()"
   ]
  }
 ],
 "metadata": {
  "kernelspec": {
   "display_name": "Python 3 (ipykernel)",
   "language": "python",
   "name": "python3"
  },
  "language_info": {
   "codemirror_mode": {
    "name": "ipython",
    "version": 3
   },
   "file_extension": ".py",
   "mimetype": "text/x-python",
   "name": "python",
   "nbconvert_exporter": "python",
   "pygments_lexer": "ipython3",
   "version": "3.7.13"
  }
 },
 "nbformat": 4,
 "nbformat_minor": 5
}
