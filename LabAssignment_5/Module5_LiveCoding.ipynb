{
 "cells": [
  {
   "cell_type": "markdown",
   "metadata": {},
   "source": [
    "# Module 5 Live Coding"
   ]
  },
  {
   "cell_type": "code",
   "execution_count": 14,
   "metadata": {},
   "outputs": [],
   "source": [
    "import numpy as np\n",
    "import pandas as pd\n",
    "import requests\n",
    "from bs4 import BeautifulSoup"
   ]
  },
  {
   "cell_type": "code",
   "execution_count": 2,
   "metadata": {},
   "outputs": [],
   "source": [
    "url = 'https://waset.org/anaesthesiology-conference-in-july-2022-in-paris'\n",
    "useragent = 'Mozilla/5.0 (Windows NT 10.0; Win64; x64) AppleWebKit/537.36 (KHTML, like Gecko) Chrome/103.0.0.0 Safari/537.36'"
   ]
  },
  {
   "cell_type": "code",
   "execution_count": 3,
   "metadata": {},
   "outputs": [
    {
     "data": {
      "text/plain": [
       "<Response [200]>"
      ]
     },
     "execution_count": 3,
     "metadata": {},
     "output_type": "execute_result"
    }
   ],
   "source": [
    "r = requests.get(url, headers = {'User-agent':useragent})\n",
    "r"
   ]
  },
  {
   "cell_type": "code",
   "execution_count": 4,
   "metadata": {},
   "outputs": [],
   "source": [
    "soup = BeautifulSoup(r.text,'html.parser')"
   ]
  },
  {
   "cell_type": "code",
   "execution_count": 5,
   "metadata": {},
   "outputs": [],
   "source": [
    "title = soup.find_all('title')[0].string"
   ]
  },
  {
   "cell_type": "code",
   "execution_count": 6,
   "metadata": {},
   "outputs": [],
   "source": [
    "cost = soup.find_all('td','earlyBird1')[0].string"
   ]
  },
  {
   "cell_type": "code",
   "execution_count": 7,
   "metadata": {},
   "outputs": [],
   "source": [
    "date = soup.find_all('td',text='Conference Dates')[0].find_next().find_next().string"
   ]
  },
  {
   "cell_type": "code",
   "execution_count": 8,
   "metadata": {},
   "outputs": [
    {
     "data": {
      "text/plain": [
       "<Response [200]>"
      ]
     },
     "execution_count": 8,
     "metadata": {},
     "output_type": "execute_result"
    }
   ],
   "source": [
    "r = requests.get('https://waset.org/conferences-in-july-2022-in-paris/program', headers = {'User-agent':useragent})\n",
    "r"
   ]
  },
  {
   "cell_type": "code",
   "execution_count": 9,
   "metadata": {},
   "outputs": [],
   "source": [
    "soup = BeautifulSoup(r.text)"
   ]
  },
  {
   "cell_type": "code",
   "execution_count": 10,
   "metadata": {},
   "outputs": [],
   "source": [
    "#[x.text for x in soup.find_all('div','col-6')]"
   ]
  },
  {
   "cell_type": "code",
   "execution_count": 16,
   "metadata": {},
   "outputs": [],
   "source": [
    "def scrapeone(url):\n",
    "    r = requests.get(url, headers = {'User-agent':useragent})\n",
    "    soup = BeautifulSoup(r.text,'html.parser')\n",
    "    title = soup.find_all('title')[0].string\n",
    "    cost = soup.find_all('td','earlyBird1')[0].string\n",
    "    date = soup.find_all('td',text='Conference Dates')[0].find_next().find_next().string\n",
    "    mydict = {'title':[title],\n",
    "             'cost':[cost],\n",
    "             'dates':[date]}\n",
    "    mydf = pd.DataFrame(mydict)\n",
    "    return mydf"
   ]
  },
  {
   "cell_type": "code",
   "execution_count": 17,
   "metadata": {},
   "outputs": [
    {
     "data": {
      "text/html": [
       "<div>\n",
       "<style scoped>\n",
       "    .dataframe tbody tr th:only-of-type {\n",
       "        vertical-align: middle;\n",
       "    }\n",
       "\n",
       "    .dataframe tbody tr th {\n",
       "        vertical-align: top;\n",
       "    }\n",
       "\n",
       "    .dataframe thead th {\n",
       "        text-align: right;\n",
       "    }\n",
       "</style>\n",
       "<table border=\"1\" class=\"dataframe\">\n",
       "  <thead>\n",
       "    <tr style=\"text-align: right;\">\n",
       "      <th></th>\n",
       "      <th>title</th>\n",
       "      <th>cost</th>\n",
       "      <th>dates</th>\n",
       "    </tr>\n",
       "  </thead>\n",
       "  <tbody>\n",
       "    <tr>\n",
       "      <th>0</th>\n",
       "      <td>International Conference on Anaesthesiology IC...</td>\n",
       "      <td>€ 500</td>\n",
       "      <td>July 19-20, 2022</td>\n",
       "    </tr>\n",
       "  </tbody>\n",
       "</table>\n",
       "</div>"
      ],
      "text/plain": [
       "                                               title   cost             dates\n",
       "0  International Conference on Anaesthesiology IC...  € 500  July 19-20, 2022"
      ]
     },
     "execution_count": 17,
     "metadata": {},
     "output_type": "execute_result"
    }
   ],
   "source": [
    "scrapeone('https://waset.org/anaesthesiology-conference-in-july-2022-in-paris')"
   ]
  },
  {
   "cell_type": "code",
   "execution_count": 18,
   "metadata": {},
   "outputs": [],
   "source": [
    "url = 'https://waset.org/conferences-in-july-2022-in-paris'\n",
    "r = requests.get(url, headers = {'User-agent':useragent})\n",
    "soup = BeautifulSoup(r.text)"
   ]
  },
  {
   "cell_type": "code",
   "execution_count": 26,
   "metadata": {},
   "outputs": [],
   "source": [
    "urls = [x['href'] for x in soup.find_all('a',href=True,title=True)[5:]]"
   ]
  },
  {
   "cell_type": "code",
   "execution_count": 27,
   "metadata": {},
   "outputs": [
    {
     "name": "stdout",
     "output_type": "stream",
     "text": [
      "https://waset.org/anaesthesiology-conference-in-july-2022-in-paris\n",
      "https://waset.org/allergy-and-asthma-conference-in-july-2022-in-paris\n",
      "https://waset.org/applied-aerodynamics-and-aeronautics-conference-in-july-2022-in-paris\n",
      "https://waset.org/antihypertensive-agents-and-diuretics-conference-in-july-2022-in-paris\n",
      "https://waset.org/aquatic-animals-diseases-and-resources-conference-in-july-2022-in-paris\n",
      "https://waset.org/aquatic-animal-health-and-diseases-conference-in-july-2022-in-paris\n",
      "https://waset.org/allergy-asthma-immunology-and-rheumatology-conference-in-july-2022-in-paris\n",
      "https://waset.org/advanced-aerogel-materials-conference-in-july-2022-in-paris\n",
      "https://waset.org/advanced-biofuels-conference-in-july-2022-in-paris\n",
      "https://waset.org/agent-based-applications-for-air-transportation-conference-in-july-2022-in-paris\n",
      "https://waset.org/applications-of-biorobotics-and-biomechatronics-conference-in-july-2022-in-paris\n",
      "https://waset.org/agricultural-biotechnology-biological-and-biosystems-engineering-conference-in-july-2022-in-paris\n",
      "https://waset.org/agro-biotechnology-biosafety-and-seed-systems-conference-in-july-2022-in-paris\n",
      "https://waset.org/advanced-bridge-design-and-construction-conference-in-july-2022-in-paris\n",
      "https://waset.org/advances-in-business-economics-conference-in-july-2022-in-paris\n",
      "https://waset.org/agricultural-biotechnology-food-beverage-and-nutritional-sciences-conference-in-july-2022-in-paris\n",
      "https://waset.org/agent-based-modelling-conference-in-july-2022-in-paris\n",
      "https://waset.org/agricultural-buildings-and-plant-protection-technologies-conference-in-july-2022-in-paris\n",
      "https://waset.org/advances-in-biomimetic-robotics-conference-in-july-2022-in-paris\n",
      "https://waset.org/animal-bioscience-and-technology-conference-in-july-2022-in-paris\n",
      "https://waset.org/aviation-composites-conference-in-july-2022-in-paris\n",
      "https://waset.org/architecture-criticism-and-architectural-theory-conference-in-july-2022-in-paris\n",
      "https://waset.org/animal-care-and-behavior-conference-in-july-2022-in-paris\n",
      "https://waset.org/autonomous-cruise-control-and-assisting-systems-conference-in-july-2022-in-paris\n",
      "https://waset.org/applied-chemistry-and-chemical-engineering-conference-in-july-2022-in-paris\n",
      "https://waset.org/advanced-cosmetic-dentistry-and-teeth-whitening-conference-in-july-2022-in-paris\n",
      "https://waset.org/applications-of-clinical-engineering-conference-in-july-2022-in-paris\n",
      "https://waset.org/advanced-cell-engineering-and-life-sciences-conference-in-july-2022-in-paris\n",
      "https://waset.org/advances-in-computer-engineering-and-technology-conference-in-july-2022-in-paris\n",
      "https://waset.org/advanced-cellular-immunology-and-immunotherapy-methods-conference-in-july-2022-in-paris\n",
      "https://waset.org/analog-communication-and-information-methods-conference-in-july-2022-in-paris\n",
      "https://waset.org/analog-communication-information-methods-and-components-conference-in-july-2022-in-paris\n",
      "https://waset.org/analog-communication-information-methods-and-techniques-conference-in-july-2022-in-paris\n",
      "https://waset.org/analog-communication-and-information-technology-conference-in-july-2022-in-paris\n",
      "https://waset.org/analog-communication-information-technology-and-methods-conference-in-july-2022-in-paris\n",
      "https://waset.org/analog-communication-information-technology-methods-and-components-conference-in-july-2022-in-paris\n",
      "https://waset.org/analog-communication-information-technology-methods-and-techniques-conference-in-july-2022-in-paris\n",
      "https://waset.org/analog-communication-information-technology-and-techniques-conference-in-july-2022-in-paris\n",
      "https://waset.org/aviation-composites-maintenance-and-equipment-conference-in-july-2022-in-paris\n",
      "https://waset.org/ambulatory-care-in-nursing-conference-in-july-2022-in-paris\n",
      "https://waset.org/applications-of-cognitive-and-neural-engineering-conference-in-july-2022-in-paris\n",
      "https://waset.org/advances-in-collider-physics-conference-in-july-2022-in-paris\n",
      "https://waset.org/automotive-control-systems-conference-in-july-2022-in-paris\n",
      "https://waset.org/analog-communication-systems-and-technologies-conference-in-july-2022-in-paris\n",
      "https://waset.org/applied-ceramic-technology-conference-in-july-2022-in-paris\n",
      "https://waset.org/advanced-cellular-therapy-technologies-conference-in-july-2022-in-paris\n",
      "https://waset.org/anthroposociology-and-development-conference-in-july-2022-in-paris\n",
      "https://waset.org/airport-design-and-architecture-conference-in-july-2022-in-paris\n",
      "https://waset.org/animal-developmental-biology-conference-in-july-2022-in-paris\n",
      "https://waset.org/animal-developmental-biology-and-genetics-conference-in-july-2022-in-paris\n",
      "https://waset.org/advanced-dynamic-cell-tissue-culture-and-automation-conference-in-july-2022-in-paris\n",
      "https://waset.org/advanced-dynamic-cell-tissue-culture-and-bioreactors-conference-in-july-2022-in-paris\n",
      "https://waset.org/advanced-dynamic-cell-tissue-culture-and-bioreactor-design-conference-in-july-2022-in-paris\n",
      "https://waset.org/advanced-dynamic-cell-tissue-culture-and-3d-cell-culture-conference-in-july-2022-in-paris\n",
      "https://waset.org/advanced-dynamic-cell-tissue-culture-and-microfluidics-conference-in-july-2022-in-paris\n",
      "https://waset.org/advanced-dynamic-cell-tissue-culture-and-organ-on-a-chip-conference-in-july-2022-in-paris\n",
      "https://waset.org/advanced-dynamic-cell-tissue-culture-and-stem-cells-conference-in-july-2022-in-paris\n",
      "https://waset.org/advanced-dynamic-cell-tissue-culture-and-tissue-engineering-conference-in-july-2022-in-paris\n",
      "https://waset.org/analysis-and-design-of-digital-control-systems-conference-in-july-2022-in-paris\n",
      "https://waset.org/advanced-drug-delivery-nanosystems-conference-in-july-2022-in-paris\n",
      "https://waset.org/advanced-drug-delivery-systems-and-devices-conference-in-july-2022-in-paris\n",
      "https://waset.org/advanced-drug-delivery-systems-and-devices-and-biomedical-applications-conference-in-july-2022-in-paris\n",
      "https://waset.org/advanced-drug-delivery-systems-and-devices-and-cancer-conference-in-july-2022-in-paris\n",
      "https://waset.org/advanced-drug-delivery-systems-and-devices-and-chronic-diseases-conference-in-july-2022-in-paris\n",
      "https://waset.org/advanced-drug-delivery-systems-and-devices-and-hydrogels-conference-in-july-2022-in-paris\n",
      "https://waset.org/advanced-drug-delivery-systems-and-devices-and-microparticles-conference-in-july-2022-in-paris\n",
      "https://waset.org/advanced-drug-delivery-systems-and-devices-and-nanomedicine-conference-in-july-2022-in-paris\n",
      "https://waset.org/advanced-drug-delivery-systems-and-devices-and-polymer-drug-delivery-systems-conference-in-july-2022-in-paris\n",
      "https://waset.org/advanced-drug-delivery-systems-and-devices-and-pharmaceutical-formulations-conference-in-july-2022-in-paris\n",
      "https://waset.org/advanced-drug-delivery-systems-and-implantable-drug-delivery-devices-conference-in-july-2022-in-paris\n",
      "https://waset.org/advantages-and-disadvantages-of-environmentally-friendly-vehicles-conference-in-july-2022-in-paris\n",
      "https://waset.org/advantages-and-disadvantages-of-electric-vehicles-conference-in-july-2022-in-paris\n",
      "https://waset.org/advantages-and-disadvantages-of-green-vehicles-conference-in-july-2022-in-paris\n",
      "https://waset.org/analysis-and-design-of-long-span-structures-conference-in-july-2022-in-paris\n",
      "https://waset.org/advanced-design-and-manufacture-conference-in-july-2022-in-paris\n",
      "https://waset.org/advances-in-data-transmission-engineering-conference-in-july-2022-in-paris\n",
      "https://waset.org/applications-of-electromagnetics-conference-in-july-2022-in-paris\n",
      "https://waset.org/adaptation-and-evolutionary-biology-conference-in-july-2022-in-paris\n",
      "https://waset.org/architectural-engineering-drawing-and-design-conference-in-july-2022-in-paris\n",
      "https://waset.org/advanced-esthetic-dentistry-procedure-and-treatments-conference-in-july-2022-in-paris\n",
      "https://waset.org/advances-in-experimental-economics-conference-in-july-2022-in-paris\n",
      "https://waset.org/aerospace-engineering-and-engineering-mechanics-conference-in-july-2022-in-paris\n",
      "https://waset.org/agricultural-environment-and-farm-management-conference-in-july-2022-in-paris\n",
      "https://waset.org/aerospace-engineering-and-flight-vehicles-conference-in-july-2022-in-paris\n",
      "https://waset.org/advances-in-experimental-genetics-conference-in-july-2022-in-paris\n",
      "https://waset.org/applied-engineering-geology-and-geotechnics-conference-in-july-2022-in-paris\n",
      "https://waset.org/applied-engineering-geology-and-hydrogeology-conference-in-july-2022-in-paris\n",
      "https://waset.org/applied-engineering-geology-mines-and-technology-conference-in-july-2022-in-paris\n",
      "https://waset.org/architecture-engineering-and-landscaping-conference-in-july-2022-in-paris\n",
      "https://waset.org/aerospace-engineering-and-manufacturing-conference-in-july-2022-in-paris\n",
      "https://waset.org/agricultural-engineering-and-natural-resources-conference-in-july-2022-in-paris\n",
      "https://waset.org/architectural-and-environmental-planning-conference-in-july-2022-in-paris\n",
      "https://waset.org/agricultural-engineering-and-resource-management-conference-in-july-2022-in-paris\n",
      "https://waset.org/aquatic-ecosystem-restoration-protection-and-management-conference-in-july-2022-in-paris\n",
      "https://waset.org/automotive-electronics-systems-conference-in-july-2022-in-paris\n",
      "https://waset.org/aircraft-evaluation-selection-and-management-conference-in-july-2022-in-paris\n",
      "https://waset.org/aquacultural-engineering-and-system-design-conference-in-july-2022-in-paris\n",
      "https://waset.org/applied-and-environmental-soil-science-conference-in-july-2022-in-paris\n",
      "https://waset.org/aviation-engineering-and-technology-conference-in-july-2022-in-paris\n",
      "https://waset.org/arctic-engineering-technologies-and-applications-conference-in-july-2022-in-paris\n"
     ]
    }
   ],
   "source": [
    "total_df = pd.DataFrame()\n",
    "for u in urls:\n",
    "    print(u)\n",
    "    one_df = scrapeone(u)\n",
    "    total_df = pd.concat([total_df,one_df])"
   ]
  },
  {
   "cell_type": "code",
   "execution_count": 28,
   "metadata": {},
   "outputs": [
    {
     "data": {
      "text/html": [
       "<div>\n",
       "<style scoped>\n",
       "    .dataframe tbody tr th:only-of-type {\n",
       "        vertical-align: middle;\n",
       "    }\n",
       "\n",
       "    .dataframe tbody tr th {\n",
       "        vertical-align: top;\n",
       "    }\n",
       "\n",
       "    .dataframe thead th {\n",
       "        text-align: right;\n",
       "    }\n",
       "</style>\n",
       "<table border=\"1\" class=\"dataframe\">\n",
       "  <thead>\n",
       "    <tr style=\"text-align: right;\">\n",
       "      <th></th>\n",
       "      <th>title</th>\n",
       "      <th>cost</th>\n",
       "      <th>dates</th>\n",
       "    </tr>\n",
       "  </thead>\n",
       "  <tbody>\n",
       "    <tr>\n",
       "      <th>0</th>\n",
       "      <td>International Conference on Anaesthesiology IC...</td>\n",
       "      <td>€ 500</td>\n",
       "      <td>July 19-20, 2022</td>\n",
       "    </tr>\n",
       "    <tr>\n",
       "      <th>0</th>\n",
       "      <td>International Conference on Allergy and Asthma...</td>\n",
       "      <td>€ 500</td>\n",
       "      <td>July 19-20, 2022</td>\n",
       "    </tr>\n",
       "    <tr>\n",
       "      <th>0</th>\n",
       "      <td>International Conference on Applied Aerodynami...</td>\n",
       "      <td>€ 500</td>\n",
       "      <td>July 19-20, 2022</td>\n",
       "    </tr>\n",
       "    <tr>\n",
       "      <th>0</th>\n",
       "      <td>International Conference on Antihypertensive A...</td>\n",
       "      <td>€ 500</td>\n",
       "      <td>July 19-20, 2022</td>\n",
       "    </tr>\n",
       "    <tr>\n",
       "      <th>0</th>\n",
       "      <td>International Conference on Aquatic Animals Di...</td>\n",
       "      <td>€ 500</td>\n",
       "      <td>July 19-20, 2022</td>\n",
       "    </tr>\n",
       "    <tr>\n",
       "      <th>...</th>\n",
       "      <td>...</td>\n",
       "      <td>...</td>\n",
       "      <td>...</td>\n",
       "    </tr>\n",
       "    <tr>\n",
       "      <th>0</th>\n",
       "      <td>International Conference on Aircraft Evaluatio...</td>\n",
       "      <td>€ 500</td>\n",
       "      <td>July 19-20, 2022</td>\n",
       "    </tr>\n",
       "    <tr>\n",
       "      <th>0</th>\n",
       "      <td>International Conference on Aquacultural Engin...</td>\n",
       "      <td>€ 500</td>\n",
       "      <td>July 19-20, 2022</td>\n",
       "    </tr>\n",
       "    <tr>\n",
       "      <th>0</th>\n",
       "      <td>International Conference on Applied and Enviro...</td>\n",
       "      <td>€ 500</td>\n",
       "      <td>July 19-20, 2022</td>\n",
       "    </tr>\n",
       "    <tr>\n",
       "      <th>0</th>\n",
       "      <td>International Conference on Aviation Engineeri...</td>\n",
       "      <td>€ 500</td>\n",
       "      <td>July 19-20, 2022</td>\n",
       "    </tr>\n",
       "    <tr>\n",
       "      <th>0</th>\n",
       "      <td>International Conference on Arctic Engineering...</td>\n",
       "      <td>€ 500</td>\n",
       "      <td>July 19-20, 2022</td>\n",
       "    </tr>\n",
       "  </tbody>\n",
       "</table>\n",
       "<p>100 rows × 3 columns</p>\n",
       "</div>"
      ],
      "text/plain": [
       "                                                title   cost             dates\n",
       "0   International Conference on Anaesthesiology IC...  € 500  July 19-20, 2022\n",
       "0   International Conference on Allergy and Asthma...  € 500  July 19-20, 2022\n",
       "0   International Conference on Applied Aerodynami...  € 500  July 19-20, 2022\n",
       "0   International Conference on Antihypertensive A...  € 500  July 19-20, 2022\n",
       "0   International Conference on Aquatic Animals Di...  € 500  July 19-20, 2022\n",
       "..                                                ...    ...               ...\n",
       "0   International Conference on Aircraft Evaluatio...  € 500  July 19-20, 2022\n",
       "0   International Conference on Aquacultural Engin...  € 500  July 19-20, 2022\n",
       "0   International Conference on Applied and Enviro...  € 500  July 19-20, 2022\n",
       "0   International Conference on Aviation Engineeri...  € 500  July 19-20, 2022\n",
       "0   International Conference on Arctic Engineering...  € 500  July 19-20, 2022\n",
       "\n",
       "[100 rows x 3 columns]"
      ]
     },
     "execution_count": 28,
     "metadata": {},
     "output_type": "execute_result"
    }
   ],
   "source": [
    "total_df"
   ]
  }
 ],
 "metadata": {
  "kernelspec": {
   "display_name": "Python 3",
   "language": "python",
   "name": "python3"
  },
  "language_info": {
   "codemirror_mode": {
    "name": "ipython",
    "version": 3
   },
   "file_extension": ".py",
   "mimetype": "text/x-python",
   "name": "python",
   "nbconvert_exporter": "python",
   "pygments_lexer": "ipython3",
   "version": "3.8.8"
  }
 },
 "nbformat": 4,
 "nbformat_minor": 4
}
